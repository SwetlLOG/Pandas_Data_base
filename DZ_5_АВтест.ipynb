{
 "cells": [
  {
   "cell_type": "code",
   "execution_count": 14,
   "id": "498acc84",
   "metadata": {},
   "outputs": [],
   "source": [
    "import numpy as np\n",
    "import pandas as pd\n",
    "import matplotlib.pyplot as plt\n",
    "import math\n",
    "from scipy import stats "
   ]
  },
  {
   "cell_type": "markdown",
   "id": "b8cb5aa1",
   "metadata": {},
   "source": [
    "### Задача № 1"
   ]
  },
  {
   "cell_type": "markdown",
   "id": "8661384c",
   "metadata": {},
   "source": [
    "Вы провели эксперимент c упрощением формы заказа в магазине Утконос и получили результаты по метрике конверсий в покупку. Выберите метод оценки и оцените есть ли стат.значимые различия между конверсиями в двух группах при alpha = 5%. Дайте краткие рекомендации команде .\n",
    "Результаты: \n",
    "1) Число юзеров в группах , которые заходили на сайт в период эксперимента: n1 = 15550 и n2 = 15550 .\n",
    "2) Число юзеров в группах , которые совершили хотя бы одну покупку за период эксперимента: n1 = 164 и n2 = 228 \n",
    "3) Конверсии : conv1 = 1.05% conv2 = 1.47% .\n"
   ]
  },
  {
   "cell_type": "markdown",
   "id": "2afc9d65",
   "metadata": {},
   "source": [
    "##### Решение"
   ]
  },
  {
   "cell_type": "markdown",
   "id": "144a57c2",
   "metadata": {},
   "source": [
    "\n",
    "Для оценки значимости различий между конверсиями в двух группах воспользуемся z-тестом для независимых выборок.\n",
    "\n"
   ]
  },
  {
   "cell_type": "code",
   "execution_count": 15,
   "id": "ca248eb6",
   "metadata": {},
   "outputs": [],
   "source": [
    "N1 = 15550\n",
    "N2 = 15550\n",
    "n1 = 164\n",
    "n2 = 228\n",
    "conv1 = 0.0105\n",
    "conv2 = 0.0147"
   ]
  },
  {
   "cell_type": "code",
   "execution_count": 17,
   "id": "908e8846",
   "metadata": {},
   "outputs": [
    {
     "data": {
      "text/plain": [
       "0.0008174051170637051"
      ]
     },
     "execution_count": 17,
     "metadata": {},
     "output_type": "execute_result"
    }
   ],
   "source": [
    "SE1 = math.sqrt(conv1*(1-conv1)/N1) # стандартная ошибка\n",
    "SE1"
   ]
  },
  {
   "cell_type": "code",
   "execution_count": 18,
   "id": "35617cbb",
   "metadata": {
    "scrolled": true
   },
   "outputs": [
    {
     "data": {
      "text/plain": [
       "0.0009651119922352379"
      ]
     },
     "execution_count": 18,
     "metadata": {},
     "output_type": "execute_result"
    }
   ],
   "source": [
    "SE2 = math.sqrt(conv2*(1-conv2)/N2)\n",
    "SE2"
   ]
  },
  {
   "cell_type": "code",
   "execution_count": 20,
   "id": "b8d33756",
   "metadata": {},
   "outputs": [
    {
     "data": {
      "text/plain": [
       "3.32081468036538"
      ]
     },
     "execution_count": 20,
     "metadata": {},
     "output_type": "execute_result"
    }
   ],
   "source": [
    "Z_stat = (conv2 - conv1)/math.sqrt(SE1**2 + SE2**2)\n",
    "Z_stat"
   ]
  },
  {
   "cell_type": "markdown",
   "id": "6fa273c5",
   "metadata": {},
   "source": [
    "Доля уровня значимости 95%, критическое значение z-статистики приблизительно равно 1,96. Так ка наше Z_ztat = 3,32 и превышает критическое значение, то различие в конверсиях между двумя группами является статистически значимо."
   ]
  },
  {
   "cell_type": "markdown",
   "id": "e7e2bddb",
   "metadata": {},
   "source": [
    "Вариант 2\n",
    "Для оценки значимости различий между двумя группами также можно использовать t-критерий Стьюдента.\n",
    "\n",
    "Если предположить, что в каждой группе есть нормальное распределение значений, то можно применить двусторонний t-тест для независимых выборок для сравнения средних значений конверсии.\n",
    "Средняя конверсия в группе с упрощенной формой заказа n2 составляет 1,47%, что статистически значимо отличается от конверсии в группе с обычной формой заказа n1 при уровне значимости 5% (p < 0.05)."
   ]
  },
  {
   "cell_type": "markdown",
   "id": "d8fdb398",
   "metadata": {},
   "source": [
    "#### Рекомендации команде: внедрение упрощенной формы заказа на сайте магазина Утконос показало статистически значимое увеличение конверсии в покупку. Для дальнейшего улучшения результатов рекомендуется продолжать работу над оптимизацией формы заказа, возможно, добавив A/B тестирование различных вариантов оформления бланка заказа.\n"
   ]
  }
 ],
 "metadata": {
  "kernelspec": {
   "display_name": "Python 3 (ipykernel)",
   "language": "python",
   "name": "python3"
  },
  "language_info": {
   "codemirror_mode": {
    "name": "ipython",
    "version": 3
   },
   "file_extension": ".py",
   "mimetype": "text/x-python",
   "name": "python",
   "nbconvert_exporter": "python",
   "pygments_lexer": "ipython3",
   "version": "3.11.3"
  }
 },
 "nbformat": 4,
 "nbformat_minor": 5
}
