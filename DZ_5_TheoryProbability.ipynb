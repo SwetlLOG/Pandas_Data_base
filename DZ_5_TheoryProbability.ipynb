{
 "cells": [
  {
   "cell_type": "code",
   "execution_count": 4,
   "id": "498acc84",
   "metadata": {},
   "outputs": [],
   "source": [
    "import numpy as np\n",
    "import pandas as pd\n",
    "from matplotlib import pyplot as plt\n",
    "import math\n",
    "from scipy import stats as st\n"
   ]
  },
  {
   "cell_type": "markdown",
   "id": "b8cb5aa1",
   "metadata": {},
   "source": [
    "### Задача № 1"
   ]
  },
  {
   "cell_type": "markdown",
   "id": "8661384c",
   "metadata": {},
   "source": [
    " Когда используется критерий Стьюдента, а когда Z –критерий?\n"
   ]
  },
  {
   "cell_type": "markdown",
   "id": "05176630",
   "metadata": {},
   "source": [
    "Критерий Стьюдента используется для нормального распределения, если у нас есть две независимые выборки, Z-критерий испорльзуется как дополнительный одномерный тест ( при нулевой гипотезе, где мат. ожидание равно нулевому мат. ожиданию)"
   ]
  },
  {
   "cell_type": "markdown",
   "id": "6b613b84",
   "metadata": {},
   "source": [
    "###  Задача № 2"
   ]
  },
  {
   "cell_type": "markdown",
   "id": "7b024064",
   "metadata": {},
   "source": [
    "Проведите тест гипотезы. Утверждается, что шарики для подшипников, изготовленные\n",
    "автоматическим станком, имеют средний диаметр 17 мм.\n",
    "Используя односторонний критерий с α=0,05, проверить эту гипотезу, если в выборке из\n",
    "n=100 шариков средний диаметр\n",
    "оказался равным 17.5 мм, а дисперсия генеральной совокупности известна и равна 4 кв. мм.\n"
   ]
  },
  {
   "cell_type": "markdown",
   "id": "93b42d04",
   "metadata": {},
   "source": [
    "#### Решение"
   ]
  },
  {
   "cell_type": "markdown",
   "id": "6e13ba6a",
   "metadata": {},
   "source": [
    "d_mean_0 = 17; \n",
    " alpha = 0.05; \n",
    " n = 100; \n",
    " var = 4; \n",
    " d_mean_1 = 17.5\n",
    "\n",
    "1. Н_0:  mu = mu_emp = 17\n",
    "\n",
    "   H_1:  mu_crit > 17;  mu_crit > mu_emp\n",
    "   Воспользуемся z-критерием\n"
   ]
  },
  {
   "cell_type": "code",
   "execution_count": 5,
   "id": "51dd3072",
   "metadata": {},
   "outputs": [
    {
     "data": {
      "text/plain": [
       "1.25"
      ]
     },
     "execution_count": 5,
     "metadata": {},
     "output_type": "execute_result"
    }
   ],
   "source": [
    "d_mean_0 = 17\n",
    "alpha = 0.05\n",
    "n = 100\n",
    "d_mean_1 = 17.5\n",
    "var = 4\n",
    "\n",
    "z_emp = (d_mean_1 - d_mean_0) / (var/np.sqrt(n))\n",
    "z_emp"
   ]
  },
  {
   "cell_type": "code",
   "execution_count": 6,
   "id": "ed5ecbcb",
   "metadata": {},
   "outputs": [
    {
     "data": {
      "text/plain": [
       "1.6448536269514722"
      ]
     },
     "execution_count": 6,
     "metadata": {},
     "output_type": "execute_result"
    }
   ],
   "source": [
    "alpha = 0.05\n",
    "z_crit = st.norm.ppf(1-alpha)\n",
    "z_crit"
   ]
  },
  {
   "cell_type": "markdown",
   "id": "bf04d3a1",
   "metadata": {},
   "source": [
    "Вывод:    mu_crit > mu_emp, можем сделать вывод о том, эмперическое мат. ожидание лежит в диапазоне критического и наши гипотеза подтверждается."
   ]
  },
  {
   "cell_type": "markdown",
   "id": "c37bb371",
   "metadata": {},
   "source": [
    "### Задача № 3"
   ]
  },
  {
   "cell_type": "markdown",
   "id": "cc9d7c9b",
   "metadata": {},
   "source": [
    "Проведите тест гипотезы. Продавец утверждает, что средний вес пачки печенья\n",
    "составляет 200 г.\n",
    "Из партии извлечена выборка из 10 пачек. Вес каждой пачки составляет:\n",
    "202, 203, 199, 197, 195, 201, 200, 204, 194, 190.\n",
    "Известно, что их веса распределены нормально.\n",
    "Верно ли утверждение продавца, если учитывать, что уровень значимости 1%? (Провести двусторонний тест.)"
   ]
  },
  {
   "cell_type": "markdown",
   "id": "6e8dd957",
   "metadata": {},
   "source": [
    "Формулируем гипотезу для нормального распределения (используем дисперсию для выборки) : Н0: mu = 200;  H1 != 200"
   ]
  },
  {
   "cell_type": "code",
   "execution_count": 7,
   "id": "860cae5c",
   "metadata": {},
   "outputs": [
    {
     "data": {
      "text/plain": [
       "198.5"
      ]
     },
     "execution_count": 7,
     "metadata": {},
     "output_type": "execute_result"
    }
   ],
   "source": [
    "sample = np.array([202, 203, 199, 197, 195, 201, 200, 204, 194, 190])\n",
    "n = 10\n",
    "alpha = 0.01\n",
    "mean = sample.mean()\n",
    "mean"
   ]
  },
  {
   "cell_type": "code",
   "execution_count": 8,
   "id": "2336784e",
   "metadata": {},
   "outputs": [
    {
     "data": {
      "text/plain": [
       "4.453463071962462"
      ]
     },
     "execution_count": 8,
     "metadata": {},
     "output_type": "execute_result"
    }
   ],
   "source": [
    "s = sample.std(ddof=1)\n",
    "s"
   ]
  },
  {
   "cell_type": "code",
   "execution_count": 12,
   "id": "39d4b120",
   "metadata": {},
   "outputs": [
    {
     "data": {
      "text/plain": [
       "-1.0651074037450896"
      ]
     },
     "execution_count": 12,
     "metadata": {},
     "output_type": "execute_result"
    }
   ],
   "source": [
    "t_emp = (mean - 200) / s *np.sqrt(10)\n",
    "t_emp\n"
   ]
  },
  {
   "cell_type": "code",
   "execution_count": 17,
   "id": "e5d78612",
   "metadata": {},
   "outputs": [
    {
     "data": {
      "text/plain": [
       "3.2498355440153697"
      ]
     },
     "execution_count": 17,
     "metadata": {},
     "output_type": "execute_result"
    }
   ],
   "source": [
    "t = st.t(n - 1)\n",
    "t_crit = t.ppf(1 - alpha / 2)\n",
    "t_crit "
   ]
  },
  {
   "cell_type": "markdown",
   "id": "6f567117",
   "metadata": {},
   "source": [
    "\n",
    "Вывод: так как  abs(t_emp) < t_crit  нулевая гипотеза принимается, утверждение продавца верно"
   ]
  },
  {
   "cell_type": "markdown",
   "id": "4dc21f05",
   "metadata": {},
   "source": [
    "### Задача № 4"
   ]
  },
  {
   "cell_type": "markdown",
   "id": "f4d0e3ff",
   "metadata": {},
   "source": [
    "\n",
    "Есть ли статистически значимые различия в среднем росте матерей и\n",
    "дочерей?\n",
    "Рост матерей 172, 177, 158, 170, 178,175, 164, 160, 169, 165\n",
    "Рост взрослых дочерей: 173, 175, 162, 174, 175, 168, 155, 170, 160, 163"
   ]
  },
  {
   "cell_type": "markdown",
   "id": "a449a353",
   "metadata": {},
   "source": [
    "Пусть нулевая гипотеза - Мх = Му, тогда альтернативная гипотеза Мх != Му"
   ]
  },
  {
   "cell_type": "code",
   "execution_count": 18,
   "id": "3300a55c",
   "metadata": {},
   "outputs": [],
   "source": [
    "x = np.array([172, 177, 158, 170, 178, 175, 164, 160, 169, 165])\n",
    "y = np.array([173, 175, 162, 174, 175, 168, 155, 170, 160, 163])\n"
   ]
  },
  {
   "cell_type": "code",
   "execution_count": 19,
   "id": "614db0b8",
   "metadata": {},
   "outputs": [
    {
     "name": "stdout",
     "output_type": "stream",
     "text": [
      "168.8 167.5 48.17777777777778 50.5 10 10\n"
     ]
    }
   ],
   "source": [
    "x_mean = np.mean(x)\n",
    "y_mean = np.mean(y)\n",
    "x_v = np.var(x, ddof=1)\n",
    "y_v = np.var(y, ddof=1)\n",
    "n_x = len(x)\n",
    "n_y = len(y)\n",
    "print(x_mean, y_mean, x_v, y_v, n_x, n_y)"
   ]
  },
  {
   "cell_type": "code",
   "execution_count": 20,
   "id": "2cdc264b",
   "metadata": {},
   "outputs": [
    {
     "data": {
      "text/plain": [
       "Ttest_indResult(statistic=0.4138411497680053, pvalue=0.68387966499013)"
      ]
     },
     "execution_count": 20,
     "metadata": {},
     "output_type": "execute_result"
    }
   ],
   "source": [
    "res = st.ttest_ind(x,y)\n",
    "res"
   ]
  },
  {
   "cell_type": "markdown",
   "id": "c562f6e3",
   "metadata": {},
   "source": [
    "alpha = 0.05;   pvalue > alpha, на уровне значимости alpha = 0.05 не отвергаеем нулевую гипотезу.\n",
    "Вывод: статистически значимых различий в росте матерей и дочерей нет."
   ]
  }
 ],
 "metadata": {
  "kernelspec": {
   "display_name": "Python 3 (ipykernel)",
   "language": "python",
   "name": "python3"
  },
  "language_info": {
   "codemirror_mode": {
    "name": "ipython",
    "version": 3
   },
   "file_extension": ".py",
   "mimetype": "text/x-python",
   "name": "python",
   "nbconvert_exporter": "python",
   "pygments_lexer": "ipython3",
   "version": "3.11.3"
  }
 },
 "nbformat": 4,
 "nbformat_minor": 5
}
