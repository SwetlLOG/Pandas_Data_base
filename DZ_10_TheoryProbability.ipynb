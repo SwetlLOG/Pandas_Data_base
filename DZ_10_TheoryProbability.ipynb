{
 "cells": [
  {
   "cell_type": "code",
   "execution_count": 63,
   "id": "498acc84",
   "metadata": {},
   "outputs": [],
   "source": [
    "import numpy as np\n",
    "import pandas as pd\n",
    "import matplotlib.pyplot as plt\n",
    "import math\n",
    "from scipy import stats "
   ]
  },
  {
   "cell_type": "markdown",
   "id": "b8cb5aa1",
   "metadata": {},
   "source": [
    "### Задача № 1"
   ]
  },
  {
   "cell_type": "markdown",
   "id": "8661384c",
   "metadata": {},
   "source": [
    "Провести дисперсионный анализ для определения того, есть ли различия среднего роста среди взрослых футболистов, хоккеистов и штангистов. Даны значения роста в трех группах случайно выбранных спортсменов: Футболисты: 173, 175, 180, 178, 177, 185, 183, 182. Хоккеисты: 177, 179, 180, 188, 177, 172, 171, 184, 180. Штангисты: 172, 173, 169, 177, 166, 180, 178, 177, 172, 166, 170. Данная промежуточная аттестация оценивается по системе \"зачет\" / \"не зачет\". \"Зачет\" ставится, если Слушатель успешно выполнил задание. \"Незачет\" ставится, если Слушатель не выполнил задание. Критерии оценивания: 1 - Слушатель провел дисперсионный анализ для определения того, есть ли различия среднего роста среди взрослых футболистов, хоккеистов и штангистов."
   ]
  },
  {
   "cell_type": "markdown",
   "id": "2afc9d65",
   "metadata": {},
   "source": [
    "##### Решение"
   ]
  },
  {
   "cell_type": "code",
   "execution_count": 64,
   "id": "8eb105e2",
   "metadata": {},
   "outputs": [],
   "source": [
    "a1 = np.array([173, 175, 180, 178, 177, 185, 183, 182])\n",
    "a2 = np.array([177, 179, 180, 188, 177, 172, 171, 184, 180])\n",
    "a3 = np.array([172, 173, 169, 177, 166, 180, 178, 177, 172, 166, 170])"
   ]
  },
  {
   "cell_type": "code",
   "execution_count": 65,
   "id": "c5f70362",
   "metadata": {},
   "outputs": [],
   "source": [
    "n1 = 8\n",
    "n2 = 9\n",
    "n3 = 11\n",
    "n = n1 + n2 + n3\n",
    "k = 3"
   ]
  },
  {
   "cell_type": "code",
   "execution_count": 66,
   "id": "a875e576",
   "metadata": {},
   "outputs": [
    {
     "data": {
      "text/plain": [
       "179.125"
      ]
     },
     "execution_count": 66,
     "metadata": {},
     "output_type": "execute_result"
    }
   ],
   "source": [
    "a1_mean = np.mean(a1)\n",
    "a1_mean"
   ]
  },
  {
   "cell_type": "code",
   "execution_count": 67,
   "id": "ad25ef2a",
   "metadata": {},
   "outputs": [
    {
     "data": {
      "text/plain": [
       "178.66666666666666"
      ]
     },
     "execution_count": 67,
     "metadata": {},
     "output_type": "execute_result"
    }
   ],
   "source": [
    "a2_mean = np.mean(a2)\n",
    "a2_mean"
   ]
  },
  {
   "cell_type": "code",
   "execution_count": 68,
   "id": "bb9cfdad",
   "metadata": {},
   "outputs": [
    {
     "data": {
      "text/plain": [
       "172.72727272727272"
      ]
     },
     "execution_count": 68,
     "metadata": {},
     "output_type": "execute_result"
    }
   ],
   "source": [
    "a3_mean = np.mean(a3)\n",
    "a3_mean"
   ]
  },
  {
   "cell_type": "code",
   "execution_count": 69,
   "id": "0cc7f110",
   "metadata": {},
   "outputs": [
    {
     "data": {
      "text/plain": [
       "array([173, 175, 180, 178, 177, 185, 183, 182, 177, 179, 180, 188, 177,\n",
       "       172, 171, 184, 180, 172, 173, 169, 177, 166, 180, 178, 177, 172,\n",
       "       166, 170])"
      ]
     },
     "execution_count": 69,
     "metadata": {},
     "output_type": "execute_result"
    }
   ],
   "source": [
    "total = np.concatenate([a1, a2, a3])\n",
    "total\n"
   ]
  },
  {
   "cell_type": "markdown",
   "id": "0a3d1db1",
   "metadata": {},
   "source": [
    "Формулируем нулевую  Н0: mu1 = mu2 = mu3\n",
    "и альтернативную гипотезу: сравниваем попарно\n",
    "Н1,1: mu1 = mu2\n",
    "Н1,2: mu1 = mu3\n",
    "Н1,3: mu2 = mu3"
   ]
  },
  {
   "cell_type": "code",
   "execution_count": 70,
   "id": "908e8846",
   "metadata": {},
   "outputs": [],
   "source": [
    "alfa = 0.05"
   ]
  },
  {
   "cell_type": "code",
   "execution_count": 71,
   "id": "44585e35",
   "metadata": {},
   "outputs": [
    {
     "data": {
      "text/plain": [
       "176.46428571428572"
      ]
     },
     "execution_count": 71,
     "metadata": {},
     "output_type": "execute_result"
    }
   ],
   "source": [
    "a_mean_total = np.mean(total)\n",
    "a_mean_total"
   ]
  },
  {
   "cell_type": "markdown",
   "id": "fa602705",
   "metadata": {},
   "source": [
    "Сумма квадратов отклонений от общего среднего"
   ]
  },
  {
   "cell_type": "code",
   "execution_count": 72,
   "id": "b79ef9b8",
   "metadata": {},
   "outputs": [
    {
     "data": {
      "text/plain": [
       "830.9642857142854"
      ]
     },
     "execution_count": 72,
     "metadata": {},
     "output_type": "execute_result"
    }
   ],
   "source": [
    "s_total_mean = np.sum((total - a_mean_total)**2)\n",
    "s_total_mean"
   ]
  },
  {
   "cell_type": "markdown",
   "id": "9d1ccfae",
   "metadata": {},
   "source": [
    "Сумма квадратов отклонений средних групповых значений от общего среднего"
   ]
  },
  {
   "cell_type": "code",
   "execution_count": 73,
   "id": "dcce5074",
   "metadata": {},
   "outputs": [
    {
     "data": {
      "text/plain": [
       "253.9074675324678"
      ]
     },
     "execution_count": 73,
     "metadata": {},
     "output_type": "execute_result"
    }
   ],
   "source": [
    "s_f = np.sum((a1_mean - a_mean_total)**2) * 8 + np.sum((a2_mean - a_mean_total)**2) * 9 + np.sum((a3_mean - a_mean_total)**2) * 11\n",
    "s_f"
   ]
  },
  {
   "cell_type": "markdown",
   "id": "773db495",
   "metadata": {},
   "source": [
    "Остаточная сумма квадратов отклонений"
   ]
  },
  {
   "cell_type": "code",
   "execution_count": 74,
   "id": "f5712070",
   "metadata": {},
   "outputs": [
    {
     "data": {
      "text/plain": [
       "577.0568181818182"
      ]
     },
     "execution_count": 74,
     "metadata": {},
     "output_type": "execute_result"
    }
   ],
   "source": [
    "s_ost = np.sum((a1 - a1_mean)**2) + np.sum((a2 - a2_mean)**2) + np.sum((a3 - a3_mean)**2)\n",
    "s_ost"
   ]
  },
  {
   "cell_type": "markdown",
   "id": "39b3ebd3",
   "metadata": {},
   "source": [
    "Рассчитаем факторную дисперсию и остаточную "
   ]
  },
  {
   "cell_type": "code",
   "execution_count": 75,
   "id": "ecf53476",
   "metadata": {},
   "outputs": [
    {
     "data": {
      "text/plain": [
       "126.9537337662339"
      ]
     },
     "execution_count": 75,
     "metadata": {},
     "output_type": "execute_result"
    }
   ],
   "source": [
    "d_f = s_f / (k - 1)\n",
    "d_f"
   ]
  },
  {
   "cell_type": "code",
   "execution_count": 76,
   "id": "906a65e4",
   "metadata": {},
   "outputs": [
    {
     "data": {
      "text/plain": [
       "23.08227272727273"
      ]
     },
     "execution_count": 76,
     "metadata": {},
     "output_type": "execute_result"
    }
   ],
   "source": [
    "d_ost = s_ost / (n - k)\n",
    "d_ost"
   ]
  },
  {
   "cell_type": "markdown",
   "id": "5285e448",
   "metadata": {},
   "source": [
    "Наблюдаемый критерий Фишера"
   ]
  },
  {
   "cell_type": "code",
   "execution_count": 77,
   "id": "a8e82034",
   "metadata": {},
   "outputs": [
    {
     "data": {
      "text/plain": [
       "5.500053450812598"
      ]
     },
     "execution_count": 77,
     "metadata": {},
     "output_type": "execute_result"
    }
   ],
   "source": [
    "F_nab = d_f / d_ost\n",
    "F_nab"
   ]
  },
  {
   "cell_type": "code",
   "execution_count": 78,
   "id": "47754beb",
   "metadata": {},
   "outputs": [
    {
     "data": {
      "text/plain": [
       "F_onewayResult(statistic=5.500053450812596, pvalue=0.010482206918698694)"
      ]
     },
     "execution_count": 78,
     "metadata": {},
     "output_type": "execute_result"
    }
   ],
   "source": [
    "f = stats.f_oneway(a1, a2, a3)\n",
    "f"
   ]
  },
  {
   "cell_type": "markdown",
   "id": "3d1e3f9b",
   "metadata": {},
   "source": [
    "По таблице Фишера найдем значение критерия F, alfa = 0.05\n",
    "(k-1) = 3 - 1 = 2 - степень свободы числителя\n",
    "(n-k) = 28 - 3 = 25 - степени свободы знаменателя\n",
    "\n",
    "Табличное значение F = 3.3852"
   ]
  },
  {
   "cell_type": "markdown",
   "id": "e6af16de",
   "metadata": {},
   "source": [
    "#### Вывод:\n",
    "Так как F_nab > F , то Н0 нулевая гипотеза отвергается, различия среднего роста среди взрослых футболистов, хоккеистов и штангистов статистически значимо. "
   ]
  },
  {
   "cell_type": "code",
   "execution_count": null,
   "id": "be932e00",
   "metadata": {},
   "outputs": [],
   "source": []
  }
 ],
 "metadata": {
  "kernelspec": {
   "display_name": "Python 3 (ipykernel)",
   "language": "python",
   "name": "python3"
  },
  "language_info": {
   "codemirror_mode": {
    "name": "ipython",
    "version": 3
   },
   "file_extension": ".py",
   "mimetype": "text/x-python",
   "name": "python",
   "nbconvert_exporter": "python",
   "pygments_lexer": "ipython3",
   "version": "3.11.3"
  }
 },
 "nbformat": 4,
 "nbformat_minor": 5
}
