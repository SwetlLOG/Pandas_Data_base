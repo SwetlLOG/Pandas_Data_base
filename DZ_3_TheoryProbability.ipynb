{
 "cells": [
  {
   "cell_type": "code",
   "execution_count": 7,
   "id": "498acc84",
   "metadata": {},
   "outputs": [],
   "source": [
    "import numpy as np\n",
    "import pandas as pd\n",
    "from matplotlib import pyplot as plt\n",
    "from math import factorial as fl\n",
    "\n",
    "# сочетания\n",
    "def combinations(k, n):\n",
    "    return fl(n) / (fl(k) * fl(n - k))"
   ]
  },
  {
   "cell_type": "markdown",
   "id": "b8cb5aa1",
   "metadata": {},
   "source": [
    "### Задача № 1"
   ]
  },
  {
   "cell_type": "markdown",
   "id": "8661384c",
   "metadata": {},
   "source": [
    "Даны значения зарплат из выборки выпускников: 100, 80, 75, 77, 89, 33, 45, 25, 65, 17, 30, 24, 57, 55, 70, 75, 65, 84, 90, 150. Посчитать (желательно без использования статистических методов наподобие std, var, mean) среднее арифметическое, среднее квадратичное отклонение, смещенную и несмещенную оценки дисперсий для данной выборки.\n"
   ]
  },
  {
   "cell_type": "code",
   "execution_count": 13,
   "id": "57c9f0cc",
   "metadata": {},
   "outputs": [],
   "source": [
    "\n",
    "salary = np.array([100, 80, 75, 77, 89, 33, 45, 25, 65, 17, 30, 24, 57, 55, 70, 75, 65, 84, 90, 150])\n"
   ]
  },
  {
   "cell_type": "markdown",
   "id": "05176630",
   "metadata": {},
   "source": [
    "\n",
    "Cреднее арифметическое"
   ]
  },
  {
   "cell_type": "code",
   "execution_count": 9,
   "id": "223bebf8",
   "metadata": {},
   "outputs": [
    {
     "data": {
      "text/plain": [
       "65.3"
      ]
     },
     "execution_count": 9,
     "metadata": {},
     "output_type": "execute_result"
    }
   ],
   "source": [
    "salary_mean = salary.sum() / salary.size\n",
    "salary_mean"
   ]
  },
  {
   "cell_type": "markdown",
   "id": "3ecccdec",
   "metadata": {},
   "source": [
    "Cреднее квадратичное отклонение"
   ]
  },
  {
   "cell_type": "code",
   "execution_count": 10,
   "id": "fdd1080a",
   "metadata": {
    "scrolled": true
   },
   "outputs": [
    {
     "data": {
      "text/plain": [
       "30.823854398825596"
      ]
     },
     "execution_count": 10,
     "metadata": {},
     "output_type": "execute_result"
    }
   ],
   "source": [
    "(np.sum((salary - salary_mean)**2) / (salary.size))**0.5"
   ]
  },
  {
   "cell_type": "markdown",
   "id": "5301137b",
   "metadata": {},
   "source": [
    "Cмещенную дисперсию"
   ]
  },
  {
   "cell_type": "code",
   "execution_count": 11,
   "id": "e5a30ca8",
   "metadata": {},
   "outputs": [
    {
     "data": {
      "text/plain": [
       "30.823854398825596"
      ]
     },
     "execution_count": 11,
     "metadata": {},
     "output_type": "execute_result"
    }
   ],
   "source": [
    "(np.sum((salary - salary_mean)**2) / salary.size)**0.5"
   ]
  },
  {
   "cell_type": "markdown",
   "id": "c1d2e6a9",
   "metadata": {},
   "source": [
    "Несмещенную дисперсию (Объем выборки небольшой, меньше 100)"
   ]
  },
  {
   "cell_type": "code",
   "execution_count": 12,
   "id": "68895077",
   "metadata": {},
   "outputs": [
    {
     "data": {
      "text/plain": [
       "31.624607341019814"
      ]
     },
     "execution_count": 12,
     "metadata": {},
     "output_type": "execute_result"
    }
   ],
   "source": [
    "(np.sum((salary - salary_mean)**2) / (salary.size - 1))**0.5"
   ]
  },
  {
   "cell_type": "markdown",
   "id": "6b613b84",
   "metadata": {},
   "source": [
    "###  Задача № 2"
   ]
  },
  {
   "cell_type": "markdown",
   "id": "7b024064",
   "metadata": {},
   "source": [
    "В первом ящике находится 8 мячей, из которых 5 - белые. Во втором ящике - 12 мячей, из которых 5 белых. Из первого ящика вытаскивают случайным образом два мяча, из второго - 4. Какова вероятность того, что 3 мяча белые?\n"
   ]
  },
  {
   "cell_type": "markdown",
   "id": "953f1825",
   "metadata": {},
   "source": [
    "16 вариантов = (бб)(бччч)+(бб)(чбчч)+(бб)(ччбч)+(бб)(чччб)+(бч)(ббчч)+(бч)(чббч)+(бч)(ччбб)+(бч)(бччб)+(чб)(ббчч)+(чб)(чббч)+(чб)(ччбб)+(чб)(бччб)+(чч)(бббч)+(чч)(бчбб)+(чч)(чббб)+(чч)(ббчб)"
   ]
  },
  {
   "cell_type": "code",
   "execution_count": 15,
   "id": "b809918a",
   "metadata": {},
   "outputs": [
    {
     "data": {
      "text/plain": [
       "0.27038239538239534"
      ]
     },
     "execution_count": 15,
     "metadata": {},
     "output_type": "execute_result"
    }
   ],
   "source": [
    "(5/8)*(4/7)*(5/12)*(7/11)*(6/10)*(5/9) + (5/8)*(4/7)*(7/12)*(5/11)*(6/10)*(5/9) + (5/8)*(4/7)*(5/12)*(4/11)*(5/10)*(3/9) + \\\n",
    "(5/8)*(4/7)*(7/12)*(6/11)*(5/10)*(5/9) + (5/8)*(3/7)*(5/12)*(4/11)*(7/10)*(6/9) + (5/8)*(3/7)*(7/12)*(5/11)*(4/10)*(6/9) + \\\n",
    "(5/8)*(3/7)*(7/12)*(6/11)*(5/10)*(4/9) + (5/8)*(3/7)*(5/12)*(7/11)*(6/10)*(4/9) + (3/8)*(5/7)*(5/12)*(4/11)*(7/10)*(6/9) + \\\n",
    "(3/8)*(5/7)*(7/12)*(5/11)*(4/10)*(6/9) + (3/8)*(5/7)*(7/12)*(6/11)*(5/10)*(4/9) + (3/8)*(5/7)*(5/12)*(7/11)*(6/10)*(4/9) + \\\n",
    "(3/8)*(2/7)*(5/12)*(4/11)*(3/10)*(7/9) + (3/8)*(2/7)*(5/12)*(7/11)*(4/10)*(3/9) + (3/8)*(2/7)*(7/12)*(5/11)*(4/10)*(3/9) + \\\n",
    "(3/8)*(2/7)*(5/12)*(4/11)*(7/10)*(3/9)"
   ]
  },
  {
   "cell_type": "markdown",
   "id": "c37bb371",
   "metadata": {},
   "source": [
    "### Задача № 3"
   ]
  },
  {
   "cell_type": "markdown",
   "id": "cc9d7c9b",
   "metadata": {},
   "source": [
    "На соревновании по биатлону один из трех спортсменов стреляет и попадает в мишень. Вероятность попадания для первого спортсмена равна 0.9, для второго — 0.8, для третьего — 0.6. Найти вероятность того, что выстрел произведен: a). первым спортсменом б). вторым спортсменом в). третьим спортсменом"
   ]
  },
  {
   "cell_type": "code",
   "execution_count": 27,
   "id": "b23237ee",
   "metadata": {},
   "outputs": [
    {
     "data": {
      "text/plain": [
       "0.7666666666666666"
      ]
     },
     "execution_count": 27,
     "metadata": {},
     "output_type": "execute_result"
    }
   ],
   "source": [
    "A = 1/3 * 0.9 + 1/3 * 0.8 + 1/3 * 0.6\n",
    "A"
   ]
  },
  {
   "cell_type": "markdown",
   "id": "7eb0dec8",
   "metadata": {},
   "source": [
    "Первый спортсмен"
   ]
  },
  {
   "cell_type": "code",
   "execution_count": 13,
   "id": "88a151a0",
   "metadata": {},
   "outputs": [
    {
     "data": {
      "text/plain": [
       "0.391304347826087"
      ]
     },
     "execution_count": 13,
     "metadata": {},
     "output_type": "execute_result"
    }
   ],
   "source": [
    "(1/3 * 0.9) / A"
   ]
  },
  {
   "cell_type": "markdown",
   "id": "5e66d7c9",
   "metadata": {},
   "source": [
    "Второй спортсмен"
   ]
  },
  {
   "cell_type": "code",
   "execution_count": 14,
   "id": "8afc15e5",
   "metadata": {
    "scrolled": true
   },
   "outputs": [
    {
     "data": {
      "text/plain": [
       "0.3478260869565218"
      ]
     },
     "execution_count": 14,
     "metadata": {},
     "output_type": "execute_result"
    }
   ],
   "source": [
    "(1/3 * 0.8) / A"
   ]
  },
  {
   "cell_type": "markdown",
   "id": "febd8cdd",
   "metadata": {},
   "source": [
    "Третий спортсмен"
   ]
  },
  {
   "cell_type": "code",
   "execution_count": 15,
   "id": "3de43480",
   "metadata": {},
   "outputs": [
    {
     "data": {
      "text/plain": [
       "0.3478260869565218"
      ]
     },
     "execution_count": 15,
     "metadata": {},
     "output_type": "execute_result"
    }
   ],
   "source": [
    "(1/3 * 0.8) / A"
   ]
  },
  {
   "cell_type": "markdown",
   "id": "4dc21f05",
   "metadata": {},
   "source": [
    "### Задача № 4"
   ]
  },
  {
   "cell_type": "markdown",
   "id": "f4d0e3ff",
   "metadata": {},
   "source": [
    "\n",
    "В университет на факультеты A и B поступило равное количество студентов, а на факультет C студентов поступило столько же, сколько на A и B вместе. Вероятность того, что студент факультета A сдаст первую сессию, равна 0.8. Для студента факультета B эта вероятность равна 0.7, а для студента факультета C - 0.9. Студент сдал первую сессию. Какова вероятность, что он учится: a). на факультете A б). на факультете B в). на факультете C?\n"
   ]
  },
  {
   "cell_type": "code",
   "execution_count": 16,
   "id": "3300a55c",
   "metadata": {},
   "outputs": [
    {
     "data": {
      "text/plain": [
       "0.825"
      ]
     },
     "execution_count": 16,
     "metadata": {},
     "output_type": "execute_result"
    }
   ],
   "source": [
    "A = 1/4 * 0.8 + 1/4 * 0.7 + 1/2 * 0.9\n",
    "A"
   ]
  },
  {
   "cell_type": "markdown",
   "id": "58bbe956",
   "metadata": {},
   "source": [
    "На факультете А"
   ]
  },
  {
   "cell_type": "code",
   "execution_count": 17,
   "id": "f82aa68b",
   "metadata": {},
   "outputs": [
    {
     "data": {
      "text/plain": [
       "0.24242424242424246"
      ]
     },
     "execution_count": 17,
     "metadata": {},
     "output_type": "execute_result"
    }
   ],
   "source": [
    "(1/4 * 0.8) / A"
   ]
  },
  {
   "cell_type": "markdown",
   "id": "bc9ec4a7",
   "metadata": {},
   "source": [
    "На факультете В"
   ]
  },
  {
   "cell_type": "code",
   "execution_count": 18,
   "id": "b90e1b4f",
   "metadata": {},
   "outputs": [
    {
     "data": {
      "text/plain": [
       "0.21212121212121213"
      ]
     },
     "execution_count": 18,
     "metadata": {},
     "output_type": "execute_result"
    }
   ],
   "source": [
    "(1/4 * 0.7) / A"
   ]
  },
  {
   "cell_type": "markdown",
   "id": "63f03d44",
   "metadata": {},
   "source": [
    "На факультете С"
   ]
  },
  {
   "cell_type": "code",
   "execution_count": 21,
   "id": "468ba003",
   "metadata": {},
   "outputs": [
    {
     "data": {
      "text/plain": [
       "0.5454545454545455"
      ]
     },
     "execution_count": 21,
     "metadata": {},
     "output_type": "execute_result"
    }
   ],
   "source": [
    "(1/2 * 0.9) / A"
   ]
  },
  {
   "cell_type": "markdown",
   "id": "089648aa",
   "metadata": {},
   "source": [
    "### Задача № 5"
   ]
  },
  {
   "cell_type": "markdown",
   "id": "5e4f3d26",
   "metadata": {},
   "source": [
    "Устройство состоит из трех деталей. Для первой детали вероятность выйти из строя в первый месяц равна 0.1, для второй - 0.2, для третьей - 0.25. Какова вероятность того, что в первый месяц выйдут из строя: а). все детали б). только две детали в). хотя бы одна деталь г). от одной до двух деталей?"
   ]
  },
  {
   "cell_type": "markdown",
   "id": "6bac5cdf",
   "metadata": {},
   "source": [
    "а) вышли из строя все детали"
   ]
  },
  {
   "cell_type": "code",
   "execution_count": 17,
   "id": "8c7ba0a3",
   "metadata": {},
   "outputs": [
    {
     "data": {
      "text/plain": [
       "0.005000000000000001"
      ]
     },
     "execution_count": 17,
     "metadata": {},
     "output_type": "execute_result"
    }
   ],
   "source": [
    "a = 0.1 * 0.2 * 0.25\n",
    "a"
   ]
  },
  {
   "cell_type": "markdown",
   "id": "525fafce",
   "metadata": {},
   "source": [
    "б) только две детали   P1 = 0,9  P2 = 0,8  P3 = 0,75"
   ]
  },
  {
   "cell_type": "code",
   "execution_count": 18,
   "id": "8195bc48",
   "metadata": {},
   "outputs": [
    {
     "data": {
      "text/plain": [
       "0.08"
      ]
     },
     "execution_count": 18,
     "metadata": {},
     "output_type": "execute_result"
    }
   ],
   "source": [
    "b = 0.9 * 0.2 * 0.25 + 0.8 * 0.1 * 0.25 + 0.75 * 0.1 * 0.2\n",
    "b"
   ]
  },
  {
   "cell_type": "markdown",
   "id": "71e57732",
   "metadata": {},
   "source": [
    "с) хотя бы одна деталь "
   ]
  },
  {
   "cell_type": "code",
   "execution_count": 19,
   "id": "5b8dfb48",
   "metadata": {},
   "outputs": [
    {
     "data": {
      "text/plain": [
       "0.45999999999999996"
      ]
     },
     "execution_count": 19,
     "metadata": {},
     "output_type": "execute_result"
    }
   ],
   "source": [
    "c = 1 - 0.9 * 0.8 * 0.75\n",
    "c"
   ]
  },
  {
   "cell_type": "markdown",
   "id": "184053a5",
   "metadata": {},
   "source": [
    "d) от одной до двух деталей"
   ]
  },
  {
   "cell_type": "code",
   "execution_count": null,
   "id": "89ae0087",
   "metadata": {},
   "outputs": [],
   "source": []
  }
 ],
 "metadata": {
  "kernelspec": {
   "display_name": "Python 3 (ipykernel)",
   "language": "python",
   "name": "python3"
  },
  "language_info": {
   "codemirror_mode": {
    "name": "ipython",
    "version": 3
   },
   "file_extension": ".py",
   "mimetype": "text/x-python",
   "name": "python",
   "nbconvert_exporter": "python",
   "pygments_lexer": "ipython3",
   "version": "3.11.3"
  }
 },
 "nbformat": 4,
 "nbformat_minor": 5
}
