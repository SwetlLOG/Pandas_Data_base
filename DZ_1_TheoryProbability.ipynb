{
 "cells": [
  {
   "cell_type": "markdown",
   "id": "a5f2700e",
   "metadata": {},
   "source": [
    "# DZ_1"
   ]
  },
  {
   "cell_type": "markdown",
   "id": "6cc76ffd",
   "metadata": {},
   "source": [
    "## Задача №1\n",
    " Из колоды в 52 карты извлекаются случайным образом 4 карты.\n",
    " a) Найти вероятность того, что все 4 карты – крести.\n",
    " б) Найти вероятность, что среди 4-х карт окажется хотя бы один туз."
   ]
  },
  {
   "cell_type": "code",
   "execution_count": 1,
   "id": "498acc84",
   "metadata": {},
   "outputs": [],
   "source": [
    "from math import factorial \n",
    "def combinations(n, k):\n",
    "    return int(factorial(n) / (factorial(k) * factorial(n - k)))\n",
    "\n"
   ]
  },
  {
   "cell_type": "markdown",
   "id": "b8cb5aa1",
   "metadata": {},
   "source": [
    "#### 1.Найти вероятность того, что все карты – крести"
   ]
  },
  {
   "cell_type": "markdown",
   "id": "8661384c",
   "metadata": {},
   "source": [
    "\n",
    "F1 - это кол-во способов извлечь 4 (крести) карты из 13 (52/4) карт одной масти (число исходов, благоприятствующих нашему событию)\n"
   ]
  },
  {
   "cell_type": "code",
   "execution_count": 2,
   "id": "57c9f0cc",
   "metadata": {},
   "outputs": [
    {
     "data": {
      "text/plain": [
       "715"
      ]
     },
     "execution_count": 2,
     "metadata": {},
     "output_type": "execute_result"
    }
   ],
   "source": [
    "\n",
    "F1 = combinations(13,4)\n",
    "F1\n"
   ]
  },
  {
   "cell_type": "markdown",
   "id": "05176630",
   "metadata": {},
   "source": [
    "\n",
    "F2 - это кол-во способов извлечь 4 карты(крести) из 52 карт(из всей колоды) одной масти \n",
    "(число исходов, благоприятствующих нашему событию)"
   ]
  },
  {
   "cell_type": "code",
   "execution_count": 3,
   "id": "223bebf8",
   "metadata": {},
   "outputs": [
    {
     "data": {
      "text/plain": [
       "270725"
      ]
     },
     "execution_count": 3,
     "metadata": {},
     "output_type": "execute_result"
    }
   ],
   "source": [
    "F2 = combinations(52,4)\n",
    "F2"
   ]
  },
  {
   "cell_type": "markdown",
   "id": "3ecccdec",
   "metadata": {},
   "source": [
    "P1 вероятность благоприятного исхода событий"
   ]
  },
  {
   "cell_type": "code",
   "execution_count": 4,
   "id": "fdd1080a",
   "metadata": {},
   "outputs": [
    {
     "data": {
      "text/plain": [
       "0.0026410564225690276"
      ]
     },
     "execution_count": 4,
     "metadata": {},
     "output_type": "execute_result"
    }
   ],
   "source": [
    "P1 = F1/F2\n",
    "P1"
   ]
  },
  {
   "cell_type": "markdown",
   "id": "6b613b84",
   "metadata": {},
   "source": [
    "#### 2. Найти вероятность, что среди 4-х карт окажется хотя бы один туз"
   ]
  },
  {
   "cell_type": "markdown",
   "id": "7b024064",
   "metadata": {},
   "source": [
    " 4 варианта событий:\n",
    "•\t1 туз и 3 другие карты\n",
    "•\t2 туза и 2 другие карты\n",
    "•\t3 туза и 1 другая карта\n",
    "•\t4 туза;  \n",
    "общей вероятностью будет сумма( союз или) всех 4х вероятностей\n"
   ]
  },
  {
   "cell_type": "markdown",
   "id": "3e2d9751",
   "metadata": {},
   "source": [
    "C1 - это кол-во исходов, где выбран 1 туз и 3 карты из 48 карт(4 мы уже проверили)"
   ]
  },
  {
   "cell_type": "code",
   "execution_count": 5,
   "id": "7a514b8b",
   "metadata": {},
   "outputs": [
    {
     "data": {
      "text/plain": [
       "69184"
      ]
     },
     "execution_count": 5,
     "metadata": {},
     "output_type": "execute_result"
    }
   ],
   "source": [
    "C1 = combinations(4,1) * combinations(48,3)\n",
    "C1\n"
   ]
  },
  {
   "cell_type": "markdown",
   "id": "40771fe9",
   "metadata": {},
   "source": [
    "С2- это кол-во исходов, где выбраны 2 туза и 2 карты из  48 карт(4 мы уже проверили)"
   ]
  },
  {
   "cell_type": "code",
   "execution_count": 6,
   "id": "ac26a95c",
   "metadata": {},
   "outputs": [
    {
     "data": {
      "text/plain": [
       "6768"
      ]
     },
     "execution_count": 6,
     "metadata": {},
     "output_type": "execute_result"
    }
   ],
   "source": [
    "C2 = combinations(4,2) * combinations(48,2)\n",
    "C2"
   ]
  },
  {
   "cell_type": "markdown",
   "id": "ff34e992",
   "metadata": {},
   "source": [
    "C3- это кол-во исходов, где выбраны 3 туза и 1 карта из  48 карт(4 мы уже проверили)"
   ]
  },
  {
   "cell_type": "code",
   "execution_count": 7,
   "id": "84369613",
   "metadata": {},
   "outputs": [
    {
     "data": {
      "text/plain": [
       "192"
      ]
     },
     "execution_count": 7,
     "metadata": {},
     "output_type": "execute_result"
    }
   ],
   "source": [
    "C3 = combinations(4,3) * combinations(48,1)\n",
    "C3\n"
   ]
  },
  {
   "cell_type": "markdown",
   "id": "feb85872",
   "metadata": {},
   "source": [
    "C4 - это кол-во исходов, где выбрано 4 туза из 48 карты (только один)"
   ]
  },
  {
   "cell_type": "code",
   "execution_count": 8,
   "id": "85be1203",
   "metadata": {},
   "outputs": [
    {
     "data": {
      "text/plain": [
       "1"
      ]
     },
     "execution_count": 8,
     "metadata": {},
     "output_type": "execute_result"
    }
   ],
   "source": [
    "C4 = combinations(4,4)*combinations(48,0)\n",
    "C4 "
   ]
  },
  {
   "cell_type": "markdown",
   "id": "8040f275",
   "metadata": {},
   "source": [
    "С - это кол-во способов извлечь 4 карты из колоды в 52 карты (общее число исходов)"
   ]
  },
  {
   "cell_type": "code",
   "execution_count": 9,
   "id": "3393e841",
   "metadata": {},
   "outputs": [
    {
     "data": {
      "text/plain": [
       "270725"
      ]
     },
     "execution_count": 9,
     "metadata": {},
     "output_type": "execute_result"
    }
   ],
   "source": [
    "C = combinations(52,4)\n",
    "C"
   ]
  },
  {
   "cell_type": "markdown",
   "id": "3f10f66e",
   "metadata": {},
   "source": [
    "P2 вероятность, что среди 4-х карт окажется хотя бы один туз:"
   ]
  },
  {
   "cell_type": "code",
   "execution_count": 10,
   "id": "8e7355df",
   "metadata": {},
   "outputs": [
    {
     "data": {
      "text/plain": [
       "0.2812632745405855"
      ]
     },
     "execution_count": 10,
     "metadata": {},
     "output_type": "execute_result"
    }
   ],
   "source": [
    "P2 = (C1 + C2 + C3 + C4)/ C\n",
    "P2"
   ]
  },
  {
   "cell_type": "markdown",
   "id": "8c72c453",
   "metadata": {},
   "source": [
    "## Задача № 2."
   ]
  },
  {
   "cell_type": "markdown",
   "id": "a329becd",
   "metadata": {},
   "source": [
    "На входной двери подъезда установлен кодовый замок, содержащий десять кнопок с цифрами от 0 до 9. Код содержит три цифры, которые нужно нажать одновременно . Какова вероятность того, что человек, не знающий код, откроет дверь с первой попытки?"
   ]
  },
  {
   "cell_type": "markdown",
   "id": "ff4c3121",
   "metadata": {},
   "source": [
    "A  -  кол-во исходов для 3 цифр из 10"
   ]
  },
  {
   "cell_type": "code",
   "execution_count": 11,
   "id": "da004ca6",
   "metadata": {},
   "outputs": [
    {
     "data": {
      "text/plain": [
       "120"
      ]
     },
     "execution_count": 11,
     "metadata": {},
     "output_type": "execute_result"
    }
   ],
   "source": [
    "A = combinations(10, 3)\n",
    "A"
   ]
  },
  {
   "cell_type": "markdown",
   "id": "42d67c33",
   "metadata": {},
   "source": [
    "M - Количество попыток(благоприятных исходов) равно  1"
   ]
  },
  {
   "cell_type": "code",
   "execution_count": 12,
   "id": "3d76a092",
   "metadata": {},
   "outputs": [],
   "source": [
    "M = 1\n"
   ]
  },
  {
   "cell_type": "markdown",
   "id": "2b3db881",
   "metadata": {},
   "source": [
    "P3 - вероятность того, что человек, не знающий код, откроет дверь с первой попытки"
   ]
  },
  {
   "cell_type": "code",
   "execution_count": 13,
   "id": "06bd7a1f",
   "metadata": {},
   "outputs": [
    {
     "data": {
      "text/plain": [
       "0.008333333333333333"
      ]
     },
     "execution_count": 13,
     "metadata": {},
     "output_type": "execute_result"
    }
   ],
   "source": [
    "P3 = M/A\n",
    "P3"
   ]
  },
  {
   "cell_type": "markdown",
   "id": "c37bb371",
   "metadata": {},
   "source": [
    "## Задача № 3"
   ]
  },
  {
   "cell_type": "markdown",
   "id": "cc9d7c9b",
   "metadata": {},
   "source": [
    "Задача 3.В ящике имеется 15 деталей, из которых 9 окрашены. Рабочий случайным образом извлекает 3 детали. Какова вероятность того, что все 3 извлеченные детали окрашены?"
   ]
  },
  {
   "cell_type": "markdown",
   "id": "d665e332",
   "metadata": {},
   "source": [
    "N1 - это кол-во способов извлечь 3 окрашенных детали из 9 окрашенных (число исходов, благоприятствующих нашему событию)"
   ]
  },
  {
   "cell_type": "code",
   "execution_count": 14,
   "id": "b23237ee",
   "metadata": {},
   "outputs": [
    {
     "data": {
      "text/plain": [
       "84"
      ]
     },
     "execution_count": 14,
     "metadata": {},
     "output_type": "execute_result"
    }
   ],
   "source": [
    "N1 = combinations(9,3)\n",
    "N1"
   ]
  },
  {
   "cell_type": "markdown",
   "id": "7eb0dec8",
   "metadata": {},
   "source": [
    "N2 - это кол-во способов извлечь 3 щкоашенных детали из 15 (общее число исходов)"
   ]
  },
  {
   "cell_type": "code",
   "execution_count": 15,
   "id": "88a151a0",
   "metadata": {},
   "outputs": [
    {
     "data": {
      "text/plain": [
       "455"
      ]
     },
     "execution_count": 15,
     "metadata": {},
     "output_type": "execute_result"
    }
   ],
   "source": [
    "N2 = combinations(15,3)\n",
    "N2"
   ]
  },
  {
   "cell_type": "markdown",
   "id": "5e66d7c9",
   "metadata": {},
   "source": [
    "P4 - вероятность благоприятного исхода события:"
   ]
  },
  {
   "cell_type": "code",
   "execution_count": 16,
   "id": "8afc15e5",
   "metadata": {
    "scrolled": true
   },
   "outputs": [
    {
     "data": {
      "text/plain": [
       "0.18461538461538463"
      ]
     },
     "execution_count": 16,
     "metadata": {},
     "output_type": "execute_result"
    }
   ],
   "source": [
    "P4 = N1/N2\n",
    "P4"
   ]
  },
  {
   "cell_type": "markdown",
   "id": "4dc21f05",
   "metadata": {},
   "source": [
    "## Задача № 4"
   ]
  },
  {
   "cell_type": "markdown",
   "id": "f4d0e3ff",
   "metadata": {},
   "source": [
    "\n",
    "В лотерее 100 билетов. Из них 2 выигрышных. Какова вероятность того, что 2 приобретенных билета окажутся выигрышными?\n"
   ]
  },
  {
   "cell_type": "markdown",
   "id": "4b55a0b5",
   "metadata": {},
   "source": [
    "V1 - это комбинация, когда 2 из 2 возможных выигрышных билета ( 1 )"
   ]
  },
  {
   "cell_type": "code",
   "execution_count": 17,
   "id": "3300a55c",
   "metadata": {},
   "outputs": [
    {
     "data": {
      "text/plain": [
       "1"
      ]
     },
     "execution_count": 17,
     "metadata": {},
     "output_type": "execute_result"
    }
   ],
   "source": [
    "V1 = combinations(2,2) * combinations(98,0)\n",
    "V1\n"
   ]
  },
  {
   "cell_type": "markdown",
   "id": "58bbe956",
   "metadata": {},
   "source": [
    "V2 - количество комбинаций вытащить 2 выгрышных билета из 100"
   ]
  },
  {
   "cell_type": "code",
   "execution_count": 19,
   "id": "f82aa68b",
   "metadata": {},
   "outputs": [
    {
     "data": {
      "text/plain": [
       "4950"
      ]
     },
     "execution_count": 19,
     "metadata": {},
     "output_type": "execute_result"
    }
   ],
   "source": [
    "V2 = combinations(100,2)\n",
    "V2"
   ]
  },
  {
   "cell_type": "markdown",
   "id": "bc9ec4a7",
   "metadata": {},
   "source": [
    "P5 - вероятность благоприятного исхода события:"
   ]
  },
  {
   "cell_type": "code",
   "execution_count": 20,
   "id": "b90e1b4f",
   "metadata": {},
   "outputs": [
    {
     "data": {
      "text/plain": [
       "0.00020202020202020202"
      ]
     },
     "execution_count": 20,
     "metadata": {},
     "output_type": "execute_result"
    }
   ],
   "source": [
    "P5 = V1/V2\n",
    "P5"
   ]
  },
  {
   "cell_type": "code",
   "execution_count": null,
   "id": "2fc618d6",
   "metadata": {},
   "outputs": [],
   "source": []
  }
 ],
 "metadata": {
  "kernelspec": {
   "display_name": "Python 3 (ipykernel)",
   "language": "python",
   "name": "python3"
  },
  "language_info": {
   "codemirror_mode": {
    "name": "ipython",
    "version": 3
   },
   "file_extension": ".py",
   "mimetype": "text/x-python",
   "name": "python",
   "nbconvert_exporter": "python",
   "pygments_lexer": "ipython3",
   "version": "3.11.3"
  }
 },
 "nbformat": 4,
 "nbformat_minor": 5
}
