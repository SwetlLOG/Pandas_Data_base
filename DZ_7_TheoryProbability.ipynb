{
 "cells": [
  {
   "cell_type": "code",
   "execution_count": 2,
   "id": "498acc84",
   "metadata": {},
   "outputs": [],
   "source": [
    "import numpy as np\n",
    "import pandas as pd\n",
    "from matplotlib import pyplot as plt\n",
    "import math\n",
    "from scipy import stats as stats\n"
   ]
  },
  {
   "cell_type": "markdown",
   "id": "b8cb5aa1",
   "metadata": {},
   "source": [
    "### Задача № 1"
   ]
  },
  {
   "cell_type": "markdown",
   "id": "8661384c",
   "metadata": {},
   "source": [
    "Даны две независимые выборки. Не соблюдается условие нормальности\n",
    "x1 380,420, 290\n",
    "y1 140,360,200,900\n",
    "Сделайте вывод по результатам, полученным с помощью функции, имеются ли статистические различия между группами?\n"
   ]
  },
  {
   "cell_type": "markdown",
   "id": "2afc9d65",
   "metadata": {},
   "source": [
    "##### Решение"
   ]
  },
  {
   "cell_type": "markdown",
   "id": "04da32cd",
   "metadata": {},
   "source": [
    "Так как не соблюдается условие нормальности,   две группы и две независимые выборки, то используем U-критерий Манна-Уитни"
   ]
  },
  {
   "cell_type": "code",
   "execution_count": 3,
   "id": "8eb105e2",
   "metadata": {},
   "outputs": [
    {
     "data": {
      "text/plain": [
       "MannwhitneyuResult(statistic=8.0, pvalue=0.6285714285714286)"
      ]
     },
     "execution_count": 3,
     "metadata": {},
     "output_type": "execute_result"
    }
   ],
   "source": [
    "x1 = ([380, 420,290])\n",
    "x2 = ([140, 360, 200, 900])\n",
    "stats. mannwhitneyu(x1,x2)"
   ]
  },
  {
   "cell_type": "markdown",
   "id": "b1c067bf",
   "metadata": {},
   "source": [
    "pvalue = 0.629 > alpha = 0.005, не отвергаем нулевую гипотезу на уровне значимости alpha = 0.005,  делаем вывод, что между группами нет  статистически знначимыч различий. "
   ]
  },
  {
   "cell_type": "markdown",
   "id": "6b613b84",
   "metadata": {},
   "source": [
    "###  Задача № 2"
   ]
  },
  {
   "cell_type": "markdown",
   "id": "7b024064",
   "metadata": {},
   "source": [
    "Исследовалось влияние препарата на уровень давления пациентов. Сначала\n",
    "измерялось давление до приема препарата, потом через 10 минут и через 30 минут. Есть\n",
    "ли статистически значимые различия между измерениями давления? В выборках не соблюдается условие нормальности.\n",
    "1е измерение до приема препарата: 150, 160, 165, 145, 155\n",
    "2е измерение через 10 минут: 140, 155, 150, 130, 135\n",
    "3е измерение через 30 минут: 130, 130, 120, 130, 125"
   ]
  },
  {
   "cell_type": "markdown",
   "id": "93b42d04",
   "metadata": {},
   "source": [
    "#### Решение"
   ]
  },
  {
   "cell_type": "raw",
   "id": "d4e3a651",
   "metadata": {
    "scrolled": true
   },
   "source": [
    "Так как мы сравниваем болле 2-х выборок и это случай повторных измерений, также не соблюдается условие нормальности, то применим критерий Фридмана"
   ]
  },
  {
   "cell_type": "code",
   "execution_count": 4,
   "id": "b79ded24",
   "metadata": {},
   "outputs": [
    {
     "data": {
      "text/plain": [
       "FriedmanchisquareResult(statistic=9.578947368421062, pvalue=0.00831683351100441)"
      ]
     },
     "execution_count": 4,
     "metadata": {},
     "output_type": "execute_result"
    }
   ],
   "source": [
    "before = np.array([150, 160 ,165, 145, 155])\n",
    "after_10m = np.array([140, 155 ,150, 130, 135])\n",
    "after_30m = np.array([130, 130 ,120, 130, 125])\n",
    "\n",
    "stats.friedmanchisquare(before, after_10m, after_30m)"
   ]
  },
  {
   "cell_type": "markdown",
   "id": "db87bfa3",
   "metadata": {},
   "source": [
    "pvalue = 0.008 > alpha = 0.005, не отвергаем нулевую гипотезу на уровне значимости alpha = 0.005,  делаем вывод, что между группами нет  статистически значимых различий. "
   ]
  },
  {
   "cell_type": "markdown",
   "id": "c37bb371",
   "metadata": {},
   "source": [
    "### Задача № 3"
   ]
  },
  {
   "cell_type": "markdown",
   "id": "cc9d7c9b",
   "metadata": {},
   "source": [
    "Сравните 1 и 2 е измерения, предполагая, что 3го измерения через 30 минут не было. Есть\n",
    "ли статистически значимые различия между измерениями давления?"
   ]
  },
  {
   "cell_type": "markdown",
   "id": "ce94ddf2",
   "metadata": {},
   "source": [
    "#### Решение"
   ]
  },
  {
   "cell_type": "markdown",
   "id": "aca7f344",
   "metadata": {},
   "source": [
    "При условии отсутствия третьего измерения мы имеем две засимые выборки и воспользуемся критерием Уилкоксона"
   ]
  },
  {
   "cell_type": "code",
   "execution_count": 5,
   "id": "2336784e",
   "metadata": {},
   "outputs": [
    {
     "data": {
      "text/plain": [
       "WilcoxonResult(statistic=0.0, pvalue=0.0625)"
      ]
     },
     "execution_count": 5,
     "metadata": {},
     "output_type": "execute_result"
    }
   ],
   "source": [
    "before = np.array([150, 160 ,165, 145, 155])\n",
    "after_10m = np.array([140, 155 ,150, 130, 135])\n",
    "\n",
    "stats.wilcoxon(before, after_10m)\n"
   ]
  },
  {
   "cell_type": "markdown",
   "id": "d491fd68",
   "metadata": {},
   "source": [
    "pvalue = 0.006 > alpha = 0.005, не отвергаем нулевую гипотезу на уровне значимости alpha = 0.005,  делаем вывод, сто между группами нет  статистически знначимых различий. "
   ]
  },
  {
   "cell_type": "markdown",
   "id": "1a75af3a",
   "metadata": {},
   "source": [
    "### Задача № 4"
   ]
  },
  {
   "cell_type": "markdown",
   "id": "2ea174bb",
   "metadata": {},
   "source": [
    "Даны 3 группы учеников плавания. Не соблюдается условие нормальности.\n",
    "В 1 группе время на дистанцию 50 м составляют:\n",
    "56, 60, 62, 55, 71, 67, 59, 58, 64, 67\n",
    "Вторая группа : 57, 58, 69, 48, 72, 70, 68, 71, 50, 53\n",
    "Третья группа: 57, 67, 49, 48, 47, 55, 66, 51, 54\n",
    "Есть\n",
    "ли статистически значимые различия между группами?"
   ]
  },
  {
   "cell_type": "markdown",
   "id": "f99c6fee",
   "metadata": {},
   "source": [
    "#### Решение"
   ]
  },
  {
   "cell_type": "markdown",
   "id": "b081cd48",
   "metadata": {},
   "source": [
    "Так как мы сравниваем болле 2-х независимых выборок,  также не соблюдается условие нормальности, то применим критерий Крускала – Уоллиса "
   ]
  },
  {
   "cell_type": "code",
   "execution_count": 6,
   "id": "16714dd0",
   "metadata": {},
   "outputs": [
    {
     "data": {
      "text/plain": [
       "KruskalResult(statistic=5.465564058257224, pvalue=0.0650380998590494)"
      ]
     },
     "execution_count": 6,
     "metadata": {},
     "output_type": "execute_result"
    }
   ],
   "source": [
    "gr_1 = np.array ([56, 60, 62, 55, 71, 67, 59, 58, 64, 67])\n",
    "gr_2 = np.array ([57, 58, 69, 48, 72, 70, 68, 71, 50, 53])\n",
    "gr_3 = np.array ([57, 67, 49, 48, 47, 55, 66, 51, 54])\n",
    "\n",
    "stats.kruskal(gr_1, gr_2, gr_3)"
   ]
  },
  {
   "cell_type": "markdown",
   "id": "19e08420",
   "metadata": {},
   "source": [
    "pvalue = 0.065 > alpha = 0.005, не отвергаем нулевую гипотезу на уровне значимости alpha = 0.005, делаем вывод, что между группами нет статистически знначимых различий"
   ]
  },
  {
   "cell_type": "markdown",
   "id": "1f7a05fa",
   "metadata": {},
   "source": [
    "### Задача № 5"
   ]
  },
  {
   "cell_type": "markdown",
   "id": "532e13a5",
   "metadata": {},
   "source": [
    "Заявляется, что партия изготавливается со средним арифметическим 2,5 см. Проверить\n",
    "данную гипотезу, если известно, что размеры изделий подчинены нормальному закону\n",
    "распределения. Объем выборки 10, уровень статистической значимости 5%\n",
    "2.51, 2.35, 2.74, 2.56, 2.40, 2.36, 2.65, 2.7, 2.67, 2.34"
   ]
  },
  {
   "cell_type": "markdown",
   "id": "b4ce2216",
   "metadata": {},
   "source": [
    "Для проверки гипотезы о среднем арифметическом при нормальном распределении используется t-критерий Стьюдента."
   ]
  },
  {
   "cell_type": "code",
   "execution_count": 39,
   "id": "d005485e",
   "metadata": {},
   "outputs": [],
   "source": [
    "part = np.array ([2.51, 2.35, 2.74, 2.56, 2.40, 2.36, 2.65, 2.7, 2.67, 2.34])"
   ]
  },
  {
   "cell_type": "code",
   "execution_count": 40,
   "id": "84240de2",
   "metadata": {},
   "outputs": [],
   "source": [
    "alpha = 0.005\n",
    "n = 10\n",
    "mu = 2.5"
   ]
  },
  {
   "cell_type": "code",
   "execution_count": 41,
   "id": "df9bdc20",
   "metadata": {},
   "outputs": [
    {
     "data": {
      "text/plain": [
       "2.5279999999999996"
      ]
     },
     "execution_count": 41,
     "metadata": {},
     "output_type": "execute_result"
    }
   ],
   "source": [
    "part_mean =  part.sum() / part.size  # среднее выборочное\n",
    "part_mean"
   ]
  },
  {
   "cell_type": "code",
   "execution_count": 42,
   "id": "d1f29ccb",
   "metadata": {},
   "outputs": [
    {
     "data": {
      "text/plain": [
       "0.1572542173961923"
      ]
     },
     "execution_count": 42,
     "metadata": {},
     "output_type": "execute_result"
    }
   ],
   "source": [
    "sigma = (np.sum((part - part_mean)**2) / (part.size -1 ))**0.5  #стандартное отклонение\n",
    "sigma"
   ]
  },
  {
   "cell_type": "code",
   "execution_count": 43,
   "id": "99025a63",
   "metadata": {},
   "outputs": [
    {
     "data": {
      "text/plain": [
       "(-3.689662392304235, 3.6896623923042484)"
      ]
     },
     "execution_count": 43,
     "metadata": {},
     "output_type": "execute_result"
    }
   ],
   "source": [
    "T1 = stats.t.ppf(alpha/2, df=n-1 )\n",
    "T2 = stats.t.ppf(1 - alpha/2, df=n-1 )\n",
    "T1, T2"
   ]
  },
  {
   "cell_type": "code",
   "execution_count": 44,
   "id": "bd67ecb4",
   "metadata": {},
   "outputs": [
    {
     "data": {
      "text/plain": [
       "0.5630613661802959"
      ]
     },
     "execution_count": 44,
     "metadata": {},
     "output_type": "execute_result"
    }
   ],
   "source": [
    "T_emp = (part_mean - mu) / (sigma /np.sqrt(n))\n",
    "T_emp "
   ]
  },
  {
   "cell_type": "markdown",
   "id": "ed22ff3f",
   "metadata": {},
   "source": [
    "Критическая область ( - inf, -3,69) ( 3,69, inf ) T_emp не принадлежит критической области, нулевая гипотеза не отвергается на уровне значимости 5%. Утверждение, что партия изготавливается со средним арифметическим 2,5 верно."
   ]
  }
 ],
 "metadata": {
  "kernelspec": {
   "display_name": "Python 3 (ipykernel)",
   "language": "python",
   "name": "python3"
  },
  "language_info": {
   "codemirror_mode": {
    "name": "ipython",
    "version": 3
   },
   "file_extension": ".py",
   "mimetype": "text/x-python",
   "name": "python",
   "nbconvert_exporter": "python",
   "pygments_lexer": "ipython3",
   "version": "3.11.3"
  }
 },
 "nbformat": 4,
 "nbformat_minor": 5
}
