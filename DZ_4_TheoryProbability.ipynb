{
 "cells": [
  {
   "cell_type": "code",
   "execution_count": 9,
   "id": "498acc84",
   "metadata": {},
   "outputs": [],
   "source": [
    "import numpy as np\n",
    "import pandas as pd\n",
    "from matplotlib import pyplot as plt\n",
    "import math\n",
    "from scipy import stats as st\n"
   ]
  },
  {
   "cell_type": "markdown",
   "id": "b8cb5aa1",
   "metadata": {},
   "source": [
    "### Задача № 1"
   ]
  },
  {
   "cell_type": "markdown",
   "id": "8661384c",
   "metadata": {},
   "source": [
    "Случайная непрерывная величина A имеет равномерное распределение на\n",
    "промежутке (200, 800].\n",
    "Найдите ее среднее значение и дисперсию.\n"
   ]
  },
  {
   "cell_type": "code",
   "execution_count": 10,
   "id": "57c9f0cc",
   "metadata": {},
   "outputs": [
    {
     "data": {
      "text/plain": [
       "array([772.98627878, 734.16800466, 246.05046172, 655.77052081,\n",
       "       698.85081885, 304.09059203, 621.92259344, 703.78509048,\n",
       "       408.8839575 , 285.92815831])"
      ]
     },
     "execution_count": 10,
     "metadata": {},
     "output_type": "execute_result"
    }
   ],
   "source": [
    "res = np.random.uniform(200, 800, 10000)\n",
    "res[:10]"
   ]
  },
  {
   "cell_type": "markdown",
   "id": "05176630",
   "metadata": {},
   "source": [
    "среднее значение"
   ]
  },
  {
   "cell_type": "code",
   "execution_count": 11,
   "id": "223bebf8",
   "metadata": {},
   "outputs": [
    {
     "data": {
      "text/plain": [
       "503.79007737194377"
      ]
     },
     "execution_count": 11,
     "metadata": {},
     "output_type": "execute_result"
    }
   ],
   "source": [
    "np.mean(res)"
   ]
  },
  {
   "cell_type": "markdown",
   "id": "3ecccdec",
   "metadata": {},
   "source": [
    "дисперсия"
   ]
  },
  {
   "cell_type": "code",
   "execution_count": 12,
   "id": "fdd1080a",
   "metadata": {
    "scrolled": true
   },
   "outputs": [
    {
     "data": {
      "text/plain": [
       "29663.064581871557"
      ]
     },
     "execution_count": 12,
     "metadata": {},
     "output_type": "execute_result"
    }
   ],
   "source": [
    "np.var(res)"
   ]
  },
  {
   "cell_type": "markdown",
   "id": "6b613b84",
   "metadata": {},
   "source": [
    "###  Задача № 2"
   ]
  },
  {
   "cell_type": "markdown",
   "id": "7b024064",
   "metadata": {},
   "source": [
    "О случайной непрерывной равномерно распределенной величине B известно, что ее\n",
    "дисперсия равна 0.2.\n",
    "Можно ли найти правую границу величины B и ее среднее значение зная, что левая\n",
    "граница равна 0.5?\n",
    "Если да, найдите ее.\n"
   ]
  },
  {
   "cell_type": "markdown",
   "id": "93b42d04",
   "metadata": {},
   "source": [
    "#### Решение"
   ]
  },
  {
   "cell_type": "markdown",
   "id": "6e13ba6a",
   "metadata": {},
   "source": [
    "D(B) = (b - 0.5)**2 / 12\n",
    "b - правая граница величины B \n",
    "Дисперсия B = 0.2, составим уравнение:\n",
    "(b - 0.5)**2 / 12 = 0.2\n",
    "b  = sqrt(0.2*12) + 0.5\n",
    "Решая данное уравнение, получаем b = 2.05.\n",
    "Среднее значение B равно 1.275.\n",
    "\n",
    "B = 2.05,  среднее значение = 1.275"
   ]
  },
  {
   "cell_type": "markdown",
   "id": "c37bb371",
   "metadata": {},
   "source": [
    "### Задача № 3"
   ]
  },
  {
   "cell_type": "markdown",
   "id": "cc9d7c9b",
   "metadata": {},
   "source": [
    "Непрерывная случайная величина X распределена нормально и задана плотностью\n",
    "распределения\n",
    "f(x) = (1 / (4 * sqrt(2pi))) * exp((-(x+2)**2) / 32)\n",
    "Найдите:\n",
    "а). M(X)\n",
    "б). D(X)\n",
    "в). std(X) (среднее квадратичное отклонение"
   ]
  },
  {
   "cell_type": "markdown",
   "id": "ff8e994a",
   "metadata": {},
   "source": [
    "a) M(X) = - 2\n",
    "\n",
    "б) D(X) =  4\n",
    "\n",
    "в) std(X) = sqrt(D(X)) = 2"
   ]
  },
  {
   "cell_type": "markdown",
   "id": "4dc21f05",
   "metadata": {},
   "source": [
    "### Задача № 4"
   ]
  },
  {
   "cell_type": "markdown",
   "id": "f4d0e3ff",
   "metadata": {},
   "source": [
    "\n",
    "Рост взрослого населения города X имеет нормальное распределение, причем, средний рост равен 174 см, а среднее квадратическое отклонение равно 8 см. посчитайте, какова вероятность того, что случайным образом выбранный взрослый человек имеет рост:\n",
    "1. больше 182 см?\n",
    "2. больше 190 см?\n",
    "3. от 166 см до 190 см?\n",
    "4. от 166 см до 182 см?\n",
    "5. от 158 см до 190 см?\n",
    "6. не выше 150 см или не ниже 190 см?\n",
    "7. не выше 150 см или не ниже 198 см?\n",
    "8. ниже 166 см?\n",
    "\n",
    "Задачу можно решить двумя способами: без использования сторонних библиотек (numpy, scipy, pandas и пр.), а затем проверить себя с помощью встроенных функций"
   ]
  },
  {
   "cell_type": "code",
   "execution_count": 41,
   "id": "3300a55c",
   "metadata": {},
   "outputs": [],
   "source": [
    "def prob(mean, scale, x):\n",
    "    return st.norm.cdf(x, mean, scale)\n",
    "\n",
    "mean = 174\n",
    "scale = 8\n",
    "\n",
    "x1 = 182\n",
    "x2 = 190\n",
    "x3 = 166\n",
    "x4 = 158\n",
    "x5 = 150\n",
    "x6 = 198\n"
   ]
  },
  {
   "cell_type": "markdown",
   "id": "0b248d5c",
   "metadata": {},
   "source": [
    "1"
   ]
  },
  {
   "cell_type": "code",
   "execution_count": 42,
   "id": "614db0b8",
   "metadata": {},
   "outputs": [
    {
     "data": {
      "text/plain": [
       "0.15865525393145707"
      ]
     },
     "execution_count": 42,
     "metadata": {},
     "output_type": "execute_result"
    }
   ],
   "source": [
    "p1 = 1 - prob(mean, scale, x1)\n",
    "p1"
   ]
  },
  {
   "cell_type": "code",
   "execution_count": 43,
   "id": "291c8025",
   "metadata": {
    "scrolled": true
   },
   "outputs": [
    {
     "data": {
      "text/plain": [
       "0.02275013194817921"
      ]
     },
     "execution_count": 43,
     "metadata": {},
     "output_type": "execute_result"
    }
   ],
   "source": [
    "p2 = 1 - prob(mean, scale, x2)\n",
    "p2"
   ]
  },
  {
   "cell_type": "code",
   "execution_count": 44,
   "id": "b94b3846",
   "metadata": {},
   "outputs": [
    {
     "data": {
      "text/plain": [
       "0.8185946141203637"
      ]
     },
     "execution_count": 44,
     "metadata": {},
     "output_type": "execute_result"
    }
   ],
   "source": [
    "p3 = prob(mean, scale, x2) - prob(mean, scale, x3)\n",
    "p3"
   ]
  },
  {
   "cell_type": "code",
   "execution_count": 50,
   "id": "21e2587a",
   "metadata": {},
   "outputs": [
    {
     "data": {
      "text/plain": [
       "0.6826894921370859"
      ]
     },
     "execution_count": 50,
     "metadata": {},
     "output_type": "execute_result"
    }
   ],
   "source": [
    "p4 = prob(mean, scale, x1) - prob(mean, scale, x3)\n",
    "p4"
   ]
  },
  {
   "cell_type": "code",
   "execution_count": 51,
   "id": "46fece3a",
   "metadata": {},
   "outputs": [
    {
     "data": {
      "text/plain": [
       "0.9544997361036416"
      ]
     },
     "execution_count": 51,
     "metadata": {},
     "output_type": "execute_result"
    }
   ],
   "source": [
    "p5 = prob(mean, scale, x2) - prob(mean, scale, x4)\n",
    "p5"
   ]
  },
  {
   "cell_type": "code",
   "execution_count": 52,
   "id": "18c53a78",
   "metadata": {},
   "outputs": [
    {
     "data": {
      "text/plain": [
       "0.0241000299798093"
      ]
     },
     "execution_count": 52,
     "metadata": {},
     "output_type": "execute_result"
    }
   ],
   "source": [
    "p6 = 1 - prob(mean, scale, x2) + prob(mean, scale, x5)\n",
    "p6"
   ]
  },
  {
   "cell_type": "code",
   "execution_count": 53,
   "id": "53d8e034",
   "metadata": {},
   "outputs": [
    {
     "data": {
      "text/plain": [
       "0.0026997960632601965"
      ]
     },
     "execution_count": 53,
     "metadata": {},
     "output_type": "execute_result"
    }
   ],
   "source": [
    "p7 = 1 - prob(mean, scale, x6) + prob(mean, scale, x5)\n",
    "p7"
   ]
  },
  {
   "cell_type": "markdown",
   "id": "089648aa",
   "metadata": {},
   "source": [
    "### Задача № 5"
   ]
  },
  {
   "cell_type": "markdown",
   "id": "5e4f3d26",
   "metadata": {},
   "source": [
    "На сколько сигм (средних квадратичных отклонений) отклоняется рост человека,\n",
    "равный 190 см, от\n",
    "математического ожидания роста в популяции, в которой M(X) = 178 см и D(X) = 25 кв.см?"
   ]
  },
  {
   "cell_type": "code",
   "execution_count": 54,
   "id": "7e7e1092",
   "metadata": {},
   "outputs": [
    {
     "data": {
      "text/plain": [
       "2.4"
      ]
     },
     "execution_count": 54,
     "metadata": {},
     "output_type": "execute_result"
    }
   ],
   "source": [
    "z = (190 - 178) / 5\n",
    "z"
   ]
  },
  {
   "cell_type": "code",
   "execution_count": null,
   "id": "2cdc264b",
   "metadata": {},
   "outputs": [],
   "source": []
  }
 ],
 "metadata": {
  "kernelspec": {
   "display_name": "Python 3 (ipykernel)",
   "language": "python",
   "name": "python3"
  },
  "language_info": {
   "codemirror_mode": {
    "name": "ipython",
    "version": 3
   },
   "file_extension": ".py",
   "mimetype": "text/x-python",
   "name": "python",
   "nbconvert_exporter": "python",
   "pygments_lexer": "ipython3",
   "version": "3.11.3"
  }
 },
 "nbformat": 4,
 "nbformat_minor": 5
}
