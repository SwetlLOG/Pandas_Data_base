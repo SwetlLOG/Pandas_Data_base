{
 "cells": [
  {
   "cell_type": "code",
   "execution_count": 45,
   "id": "498acc84",
   "metadata": {},
   "outputs": [],
   "source": [
    "import numpy as np\n",
    "import pandas as pd\n",
    "from matplotlib import pyplot as plt\n",
    "import math\n",
    "from scipy import stats as st\n",
    "from statsmodels.stats.weightstats import _tconfint_generic as t_stat"
   ]
  },
  {
   "cell_type": "markdown",
   "id": "b8cb5aa1",
   "metadata": {},
   "source": [
    "### Задача № 1"
   ]
  },
  {
   "cell_type": "markdown",
   "id": "8661384c",
   "metadata": {},
   "source": [
    "Известно, что генеральная совокупность распределена нормально\n",
    "со средним квадратическим отклонением, равным 16.\n",
    "Найти доверительный интервал для оценки математического ожидания с надежностью\n",
    "0.95,\n",
    "если выборочная средняя M = 80, а объем выборки n = 256\n"
   ]
  },
  {
   "cell_type": "markdown",
   "id": "aa5b6534",
   "metadata": {},
   "source": [
    "Средне квадратическое отклонение генеральной совокупности σ = 16\n",
    "Объем выборки из генеральной совокупности n = 256\n",
    "Выборочное среднее x_mean = 80\n",
    "Надежность = 0.95\n"
   ]
  },
  {
   "cell_type": "code",
   "execution_count": 46,
   "id": "d5d511ba",
   "metadata": {},
   "outputs": [],
   "source": [
    "# n-1\n",
    "t_emp = st.t(256 - 1)"
   ]
  },
  {
   "cell_type": "code",
   "execution_count": 47,
   "id": "5fec32dc",
   "metadata": {},
   "outputs": [
    {
     "data": {
      "text/plain": [
       "1.9693105698491928"
      ]
     },
     "execution_count": 47,
     "metadata": {},
     "output_type": "execute_result"
    }
   ],
   "source": [
    "# 1 - alpha / 2\n",
    "t = t_emp.ppf(1 - 0.05 / 2)\n",
    "t"
   ]
  },
  {
   "cell_type": "code",
   "execution_count": 48,
   "id": "95c30799",
   "metadata": {},
   "outputs": [
    {
     "data": {
      "text/plain": [
       "(78.0306894301508, 81.9693105698492)"
      ]
     },
     "execution_count": 48,
     "metadata": {},
     "output_type": "execute_result"
    }
   ],
   "source": [
    "sigma = 16\n",
    "n = 256\n",
    "x_mean = 80\n",
    "\n",
    "(x_mean - t * sigma / np.sqrt(n), x_mean + t * sigma / np.sqrt(n))"
   ]
  },
  {
   "cell_type": "markdown",
   "id": "6b613b84",
   "metadata": {},
   "source": [
    "###  Задача № 2"
   ]
  },
  {
   "cell_type": "markdown",
   "id": "7b024064",
   "metadata": {},
   "source": [
    "В результате 10 независимых измерений некоторой величины X, выполненных с\n",
    "одинаковой точностью,\n",
    "получены опытные данные:\n",
    "6.9, 6.1, 6.2, 6.8, 7.5, 6.3, 6.4, 6.9, 6.7, 6.1\n",
    "Предполагая, что результаты измерений подчинены нормальному закону распределения\n",
    "вероятностей,\n",
    "оценить истинное значение величины X при помощи доверительного интервала,\n",
    "покрывающего это\n",
    "значение с доверительной вероятностью 0,95."
   ]
  },
  {
   "cell_type": "markdown",
   "id": "93b42d04",
   "metadata": {},
   "source": [
    "#### Решение"
   ]
  },
  {
   "cell_type": "code",
   "execution_count": 49,
   "id": "68a1f290",
   "metadata": {
    "scrolled": true
   },
   "outputs": [
    {
     "data": {
      "text/plain": [
       "6.590000000000001"
      ]
     },
     "execution_count": 49,
     "metadata": {},
     "output_type": "execute_result"
    }
   ],
   "source": [
    " x = np.array([6.9, 6.1, 6.2, 6.8, 7.5, 6.3, 6.4, 6.9, 6.7, 6.1])\n",
    "mean_x = np.mean(x)\n",
    "mean_x "
   ]
  },
  {
   "cell_type": "code",
   "execution_count": 50,
   "id": "361497e2",
   "metadata": {},
   "outputs": [
    {
     "data": {
      "text/plain": [
       "0.2032222222222223"
      ]
     },
     "execution_count": 50,
     "metadata": {},
     "output_type": "execute_result"
    }
   ],
   "source": [
    "D1 = np.var(x, ddof=1) #несмещенная дисперсия\n",
    "D1"
   ]
  },
  {
   "cell_type": "code",
   "execution_count": 51,
   "id": "39070a5b",
   "metadata": {},
   "outputs": [
    {
     "data": {
      "text/plain": [
       "2.2621571627409915"
      ]
     },
     "execution_count": 51,
     "metadata": {},
     "output_type": "execute_result"
    }
   ],
   "source": [
    "T1 = st.t.ppf (0.975, 9) # доверительный интервал для среднего\n",
    "T1"
   ]
  },
  {
   "cell_type": "code",
   "execution_count": 52,
   "id": "0a31e674",
   "metadata": {},
   "outputs": [
    {
     "data": {
      "text/plain": [
       "6.267515851415713"
      ]
     },
     "execution_count": 52,
     "metadata": {},
     "output_type": "execute_result"
    }
   ],
   "source": [
    "mean_x - T1 * np.sqrt(D1/10)"
   ]
  },
  {
   "cell_type": "code",
   "execution_count": 53,
   "id": "1026be1c",
   "metadata": {},
   "outputs": [
    {
     "data": {
      "text/plain": [
       "6.912484148584288"
      ]
     },
     "execution_count": 53,
     "metadata": {},
     "output_type": "execute_result"
    }
   ],
   "source": [
    "mean_x + T1 * np.sqrt(D1/10)"
   ]
  },
  {
   "cell_type": "markdown",
   "id": "f668ea58",
   "metadata": {},
   "source": [
    "Величина Х лежит в интервале (6,268; 6,912)"
   ]
  },
  {
   "cell_type": "markdown",
   "id": "c37bb371",
   "metadata": {},
   "source": [
    "### Задача № 3"
   ]
  },
  {
   "cell_type": "markdown",
   "id": "cc9d7c9b",
   "metadata": {},
   "source": [
    "Рост дочерей 175, 167, 154, 174, 178, 148, 160, 167, 169, 170\n",
    "Рост матерей 178, 165, 165, 173, 168, 155, 160, 164, 178, 175\n",
    "\n",
    "Используя эти данные построить 95% доверительный интервал для разности среднего\n",
    "роста родителей и детей"
   ]
  },
  {
   "cell_type": "code",
   "execution_count": 59,
   "id": "860cae5c",
   "metadata": {},
   "outputs": [],
   "source": [
    "d_heights = np.array([175., 167., 154., 174., 178., 148., 160., 167., 169., 170.])\n",
    "m_heights = np.array([178., 165., 165., 173., 168., 155., 160., 164., 178., 175.])\n"
   ]
  },
  {
   "cell_type": "code",
   "execution_count": 78,
   "id": "2336784e",
   "metadata": {},
   "outputs": [
    {
     "data": {
      "text/plain": [
       "166.2"
      ]
     },
     "execution_count": 78,
     "metadata": {},
     "output_type": "execute_result"
    }
   ],
   "source": [
    "mean_d_height = np.mean(d_heights)\n",
    "mean_d_height"
   ]
  },
  {
   "cell_type": "code",
   "execution_count": 79,
   "id": "e582a291",
   "metadata": {},
   "outputs": [
    {
     "data": {
      "text/plain": [
       "168.1"
      ]
     },
     "execution_count": 79,
     "metadata": {},
     "output_type": "execute_result"
    }
   ],
   "source": [
    "mean_m_height = np.mean(m_heights)\n",
    "mean_m_height"
   ]
  },
  {
   "cell_type": "code",
   "execution_count": 80,
   "id": "39d4b120",
   "metadata": {},
   "outputs": [
    {
     "data": {
      "text/plain": [
       "1.9000000000000057"
      ]
     },
     "execution_count": 80,
     "metadata": {},
     "output_type": "execute_result"
    }
   ],
   "source": [
    "delta = mean_m_height - mean_d_height\n",
    "delta"
   ]
  },
  {
   "cell_type": "code",
   "execution_count": 81,
   "id": "3a71bab2",
   "metadata": {},
   "outputs": [
    {
     "data": {
      "text/plain": [
       "60.10000000000001"
      ]
     },
     "execution_count": 81,
     "metadata": {},
     "output_type": "execute_result"
    }
   ],
   "source": [
    "D1 = np.var(m_heights, ddof=1)  #несмещенная дисперсия \n",
    "D1"
   ]
  },
  {
   "cell_type": "code",
   "execution_count": 82,
   "id": "55360856",
   "metadata": {},
   "outputs": [
    {
     "data": {
      "text/plain": [
       "91.06666666666666"
      ]
     },
     "execution_count": 82,
     "metadata": {},
     "output_type": "execute_result"
    }
   ],
   "source": [
    "D2 = np.var(d_heights, ddof=1)   #несмещенная дисперсия \n",
    "D2"
   ]
  },
  {
   "cell_type": "code",
   "execution_count": 83,
   "id": "b649a39e",
   "metadata": {},
   "outputs": [
    {
     "data": {
      "text/plain": [
       "75.58333333333334"
      ]
     },
     "execution_count": 83,
     "metadata": {},
     "output_type": "execute_result"
    }
   ],
   "source": [
    "D = (D1 + D2)/2    # оъединенная оценка дисперсии\n",
    "D"
   ]
  },
  {
   "cell_type": "code",
   "execution_count": 84,
   "id": "be3b083c",
   "metadata": {},
   "outputs": [
    {
     "data": {
      "text/plain": [
       "3.8880157750022915"
      ]
     },
     "execution_count": 84,
     "metadata": {},
     "output_type": "execute_result"
    }
   ],
   "source": [
    "SE = np.sqrt (D/10 + D/10) #стандартная ошибка разности средних\n",
    "SE"
   ]
  },
  {
   "cell_type": "code",
   "execution_count": 85,
   "id": "023837d1",
   "metadata": {},
   "outputs": [
    {
     "data": {
      "text/plain": [
       "2.10092204024096"
      ]
     },
     "execution_count": 85,
     "metadata": {},
     "output_type": "execute_result"
    }
   ],
   "source": [
    "t = st.t.ppf(0.975, 18) # степени свободы 2*(n-1) = 18\n",
    "t"
   ]
  },
  {
   "cell_type": "code",
   "execution_count": 86,
   "id": "235a91f5",
   "metadata": {},
   "outputs": [
    {
     "data": {
      "text/plain": [
       "-6.268418034506846"
      ]
     },
     "execution_count": 86,
     "metadata": {},
     "output_type": "execute_result"
    }
   ],
   "source": [
    "L = delta - t * SE\n",
    "L"
   ]
  },
  {
   "cell_type": "code",
   "execution_count": 87,
   "id": "27a94e2c",
   "metadata": {},
   "outputs": [
    {
     "data": {
      "text/plain": [
       "10.068418034506857"
      ]
     },
     "execution_count": 87,
     "metadata": {},
     "output_type": "execute_result"
    }
   ],
   "source": [
    "U = delta + t * SE\n",
    "U"
   ]
  },
  {
   "cell_type": "markdown",
   "id": "93aaaae5",
   "metadata": {},
   "source": [
    "Вывод: Доверительный интервал для разности роста родителей и детей находиться в диапазоне от -6,268 до 10,068"
   ]
  }
 ],
 "metadata": {
  "kernelspec": {
   "display_name": "Python 3 (ipykernel)",
   "language": "python",
   "name": "python3"
  },
  "language_info": {
   "codemirror_mode": {
    "name": "ipython",
    "version": 3
   },
   "file_extension": ".py",
   "mimetype": "text/x-python",
   "name": "python",
   "nbconvert_exporter": "python",
   "pygments_lexer": "ipython3",
   "version": "3.11.3"
  }
 },
 "nbformat": 4,
 "nbformat_minor": 5
}
